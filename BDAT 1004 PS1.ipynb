{
 "cells": [
  {
   "cell_type": "markdown",
   "id": "8de2ccda",
   "metadata": {},
   "source": [
    "## BDAT 1004. Problem Set 1"
   ]
  },
  {
   "cell_type": "markdown",
   "id": "efab3b64",
   "metadata": {},
   "source": [
    "## Question 1 (C#)"
   ]
  },
  {
   "cell_type": "markdown",
   "id": "0544d290",
   "metadata": {},
   "source": [
    "What data type is each of the following?\n",
    "\n",
    "a) 5\n",
    "\n",
    "b) 5.0\n",
    "\n",
    "c) 5 > 1\n",
    "\n",
    "d) '5'\n",
    "\n",
    "e) 5 * 2\n",
    "\n",
    "f) '5' * 2\n",
    "\n",
    "g) '5' + '2'\n",
    "\n",
    "h) 5 / 2\n",
    "\n",
    "i) 5 % 2\n",
    "\n",
    "j) {5, 2, 1}\n",
    "\n",
    "k) 5 == 3\n",
    "\n",
    "l) Pi (the number)"
   ]
  },
  {
   "cell_type": "code",
   "execution_count": 29,
   "id": "f2eac6cd",
   "metadata": {},
   "outputs": [
    {
     "name": "stdout",
     "output_type": "stream",
     "text": [
      "The data type of 5 is: System.Int32\r\n"
     ]
    }
   ],
   "source": [
    "// a) 5\n",
    "int number = 5;\n",
    "Type type = typeof(int);\n",
    "Console.WriteLine(\"The data type of 5 is: \" + type);"
   ]
  },
  {
   "cell_type": "code",
   "execution_count": 12,
   "id": "5a7fba9c",
   "metadata": {},
   "outputs": [
    {
     "name": "stdout",
     "output_type": "stream",
     "text": [
      "The data type of 5.0 is: System.Double\r\n"
     ]
    }
   ],
   "source": [
    "// b) 5.0\n",
    "double number = 5.0;\n",
    "Type type = typeof(double);\n",
    "Console.WriteLine(\"The data type of 5.0 is: \" + type);"
   ]
  },
  {
   "cell_type": "code",
   "execution_count": 13,
   "id": "88d3b699",
   "metadata": {},
   "outputs": [
    {
     "name": "stdout",
     "output_type": "stream",
     "text": [
      "The data type of 5>1 is: System.Boolean\r\n"
     ]
    }
   ],
   "source": [
    "// c) '5>1'\n",
    "bool number = 5>1;\n",
    "Type type = typeof(bool);\n",
    "Console.WriteLine(\"The data type of 5>1 is: \" + type);"
   ]
  },
  {
   "cell_type": "code",
   "execution_count": 14,
   "id": "8b0fa37d",
   "metadata": {},
   "outputs": [
    {
     "name": "stdout",
     "output_type": "stream",
     "text": [
      "The data type of '5' is: System.Char\r\n"
     ]
    }
   ],
   "source": [
    "// d) '5'\n",
    "char number = '5';\n",
    "Type type = typeof(char);\n",
    "Console.WriteLine(\"The data type of '5' is: \" + type);"
   ]
  },
  {
   "cell_type": "code",
   "execution_count": 15,
   "id": "bc5e3611",
   "metadata": {},
   "outputs": [
    {
     "name": "stdout",
     "output_type": "stream",
     "text": [
      "The data type of 5*2 is: System.Int32\r\n"
     ]
    }
   ],
   "source": [
    "// e) 5*2\n",
    "int number = 5;\n",
    "Type type = typeof(int);\n",
    "Console.WriteLine(\"The data type of 5*2 is: \" + type);"
   ]
  },
  {
   "cell_type": "code",
   "execution_count": 16,
   "id": "d3dd4870",
   "metadata": {},
   "outputs": [
    {
     "name": "stdout",
     "output_type": "stream",
     "text": [
      "The data type of 5*2 is: System.Int32\r\n"
     ]
    }
   ],
   "source": [
    "// f) '5'*2\n",
    "int number = 5;\n",
    "Type type = typeof(int);\n",
    "Console.WriteLine(\"The data type of 5*2 is: \" + type);"
   ]
  },
  {
   "cell_type": "code",
   "execution_count": 18,
   "id": "bb53637f",
   "metadata": {},
   "outputs": [
    {
     "name": "stdout",
     "output_type": "stream",
     "text": [
      "The data type of  is: System.Int32\r\n"
     ]
    }
   ],
   "source": [
    "// g) '5'+'2'\n",
    "int number = '5'+'2';\n",
    "Type type = typeof(int);\n",
    "Console.WriteLine(\"The data type of '5'+'2' is: \" + type);"
   ]
  },
  {
   "cell_type": "code",
   "execution_count": 20,
   "id": "e0a1e5b8",
   "metadata": {},
   "outputs": [
    {
     "name": "stdout",
     "output_type": "stream",
     "text": [
      "The data type of 5/2 is: System.Double\r\n"
     ]
    }
   ],
   "source": [
    "// h) 5/2\n",
    "double number = 5/2;\n",
    "Type type = typeof(double);\n",
    "Console.WriteLine(\"The data type of 5/2 is: \" + type);"
   ]
  },
  {
   "cell_type": "code",
   "execution_count": 21,
   "id": "00ef35fb",
   "metadata": {},
   "outputs": [
    {
     "name": "stdout",
     "output_type": "stream",
     "text": [
      "The data type of 5%2 is: System.Int32\r\n"
     ]
    }
   ],
   "source": [
    "// i) 5%2\n",
    "int number = 5%2;\n",
    "Type type = typeof(int);\n",
    "Console.WriteLine(\"The data type of 5%2 is: \" + type);"
   ]
  },
  {
   "cell_type": "code",
   "execution_count": 25,
   "id": "ee971541",
   "metadata": {},
   "outputs": [
    {
     "name": "stdout",
     "output_type": "stream",
     "text": [
      "The data type of {5,2,1} is: System.Int32[]\r\n"
     ]
    }
   ],
   "source": [
    "// j) {5,2,1}\n",
    "int[] number = {5,2,1};\n",
    "Type type = typeof(int[]);\n",
    "Console.WriteLine(\"The data type of {5,2,1} is: \" + type);"
   ]
  },
  {
   "cell_type": "code",
   "execution_count": 8,
   "id": "8fa7f2e5",
   "metadata": {},
   "outputs": [
    {
     "name": "stdout",
     "output_type": "stream",
     "text": [
      "The data type of 5==3 is: System.Boolean\r\n"
     ]
    }
   ],
   "source": [
    "// k) 5==3\n",
    "bool number = 5==3;\n",
    "Type type = typeof(bool);\n",
    "Console.WriteLine($\"The data type of 5==3 is: \" + type);"
   ]
  },
  {
   "cell_type": "code",
   "execution_count": 26,
   "id": "d9d16a8b",
   "metadata": {},
   "outputs": [
    {
     "name": "stdout",
     "output_type": "stream",
     "text": [
      "The data type of PI is: System.Double\r\n"
     ]
    }
   ],
   "source": [
    "// l) Pi (the number)\n",
    "double number = Math.PI;\n",
    "Type type = typeof(double);\n",
    "Console.WriteLine(\"The data type of PI is: \" + type);"
   ]
  },
  {
   "cell_type": "markdown",
   "id": "f1b58323",
   "metadata": {},
   "source": [
    "##   Question 2 (C#)\n"
   ]
  },
  {
   "cell_type": "markdown",
   "id": "00e7ff8c",
   "metadata": {},
   "source": [
    "Write (and evaluate) c# expressions that answer these questions:\n",
    "\n",
    "a. How many letters are there in 'Supercalifragilisticexpialidocious'?\n",
    "\n",
    "b. Does 'Supercalifragilisticexpialidocious' contain 'ice' as a substring?\n",
    "\n",
    "c. Which of the following words is the longest: Supercalifragilisticexpialidocious, Honorificabilitudinitatibus, or Bababadalgharaghtakamminarronnkonn?\n",
    "\n",
    "d. Which composer comes first in the dictionary: 'Berlioz', 'Borodin', 'Brian','Bartok', 'Bellini', 'Buxtehude', 'Bernstein'. Which one comes last?"
   ]
  },
  {
   "cell_type": "code",
   "execution_count": 1,
   "id": "c4f2e33c",
   "metadata": {},
   "outputs": [
    {
     "data": {
      "text/plain": [
       "34"
      ]
     },
     "execution_count": 1,
     "metadata": {},
     "output_type": "execute_result"
    }
   ],
   "source": [
    "// How many letters are there in 'Supercalifragilisticexpialidocious'?\n",
    "string word = \"Supercalifragilisticexpialidocious\";\n",
    "int letterCount = word.Length;\n",
    "letterCount"
   ]
  },
  {
   "cell_type": "code",
   "execution_count": 2,
   "id": "9fce31f0",
   "metadata": {},
   "outputs": [
    {
     "data": {
      "text/plain": [
       "True"
      ]
     },
     "execution_count": 2,
     "metadata": {},
     "output_type": "execute_result"
    }
   ],
   "source": [
    "// Does 'Supercalifragilisticexpialidocious' contain 'ice' as a substring?\n",
    "string word = \"Supercalifragilisticexpialidocious\";\n",
    "bool containsIce = word.Contains(\"ice\");\n",
    "containsIce\n"
   ]
  },
  {
   "cell_type": "code",
   "execution_count": 3,
   "id": "f90640de",
   "metadata": {},
   "outputs": [
    {
     "data": {
      "text/plain": [
       "Supercalifragilisticexpialidocious"
      ]
     },
     "execution_count": 3,
     "metadata": {},
     "output_type": "execute_result"
    }
   ],
   "source": [
    "// Which of the following words is the longest: \n",
    "// Supercalifragilisticexpialidocious, Honorificabilitudinitatibus, or Bababadalgharaghtakamminarronnkonn?\n",
    "\n",
    "string[] words = { \"Supercalifragilisticexpialidocious\", \"Honorificabilitudinitatibus\", \"Bababadalgharaghtakamminarronnkonn\" };\n",
    "string longestWord = words.OrderByDescending(w => w.Length).First();\n",
    "longestWord\n"
   ]
  },
  {
   "cell_type": "code",
   "execution_count": 4,
   "id": "f5aea923",
   "metadata": {},
   "outputs": [
    {
     "data": {
      "text/html": [
       "<table><thead><tr><th>Item1</th><th>Item2</th></tr></thead><tbody><tr><td>Bartok</td><td>Buxtehude</td></tr></tbody></table>"
      ]
     },
     "execution_count": 4,
     "metadata": {},
     "output_type": "execute_result"
    }
   ],
   "source": [
    "//  Which composer comes first in the dictionary: \n",
    "// 'Berlioz', 'Borodin', 'Brian','Bartok', 'Bellini', 'Buxtehude', 'Bernstein'. Which one comes last?\n",
    "\n",
    "string[] composers = { \"Berlioz\", \"Borodin\", \"Brian\", \"Bartok\", \"Bellini\", \"Buxtehude\", \"Bernstein\" };\n",
    "string Composer1 = composers.Min();\n",
    "string Composer2 = composers.Max();\n",
    "(Composer1, Composer2)\n",
    "\n"
   ]
  },
  {
   "cell_type": "markdown",
   "id": "f6a5bad2",
   "metadata": {},
   "source": [
    "## Question 3 (C#)"
   ]
  },
  {
   "cell_type": "markdown",
   "id": "a457529b",
   "metadata": {},
   "source": [
    "Implement function triangleArea(a,b,c) that takes as input the lengths of the 3 sides of a triangle and returns the area of the triangle. By Heron's formula, the area of a triangle with side lengths a, b, and c is √(s(s-a)(s-b)(s-c)), where s = (a + b + c)/2."
   ]
  },
  {
   "cell_type": "code",
   "execution_count": 79,
   "id": "ad626311",
   "metadata": {},
   "outputs": [
    {
     "data": {
      "text/plain": [
       "14.696938456699069"
      ]
     },
     "execution_count": 79,
     "metadata": {},
     "output_type": "execute_result"
    }
   ],
   "source": [
    "using System;\n",
    "\n",
    "public class Program\n",
    "{\n",
    "    public static double TriangleArea(double a, double b, double c)\n",
    "    {\n",
    "        double s = (a + b + c) / 2;\n",
    "        double area = Math.Sqrt(s * (s - a) * (s - b) * (s - c));\n",
    "        return area;\n",
    "    }\n",
    "}\n",
    "\n",
    "// Here we will write 3 sides of the triangle:\n",
    "double first_side = 5.0;\n",
    "double second_side = 6.0;\n",
    "double third_side = 7.0;\n",
    "\n",
    "Program.TriangleArea(first_side, second_side, third_side);\n",
    "area"
   ]
  },
  {
   "cell_type": "markdown",
   "id": "e58a0914",
   "metadata": {},
   "source": [
    "## Question 4 (C#)"
   ]
  },
  {
   "cell_type": "markdown",
   "id": "e34563fd",
   "metadata": {},
   "source": [
    "Write a program in C# Sharp to separate odd and even integers in separate arrays. Go to the editor\n",
    "\n",
    "Test Data :\n",
    "\n",
    "Input the number of elements to be stored in the array :5 Input 5 elements in the array :\n",
    "element - 0 : 25\n",
    "\n",
    "element - 1 : 47\n",
    "\n",
    "element - 2 : 42\n",
    "\n",
    "element - 3 : 56\n",
    "\n",
    "element - 4 : 32 \n",
    "\n",
    "Expected Output:\n",
    "The Even elements are: 42 56 32\n",
    "The Odd elements are : 25 47"
   ]
  },
  {
   "cell_type": "code",
   "execution_count": 76,
   "id": "f9643702",
   "metadata": {},
   "outputs": [
    {
     "name": "stdout",
     "output_type": "stream",
     "text": [
      "Odd numbers:\n",
      "1\n",
      "19\n",
      "23\n",
      "\n",
      "Even numbers:\n",
      "12\n",
      "18\n"
     ]
    }
   ],
   "source": [
    "using System;\n",
    "\n",
    "public class Program\n",
    "{\n",
    "    public static void Main()\n",
    "    {\n",
    "        int[] num = { 1,12,18,19,23 }; // We can input any elements here \n",
    "\n",
    "        int CountOdd = 0;\n",
    "        int CountEven = 0;\n",
    "\n",
    "        // Count the number of odd and even numbers\n",
    "        foreach (int no in num)\n",
    "        {\n",
    "            if (no % 2 == 0)\n",
    "            {\n",
    "                CountEven++;\n",
    "            }\n",
    "            else\n",
    "            {\n",
    "                CountOdd++;\n",
    "            }\n",
    "        }\n",
    "\n",
    "        // Initialize arrays for odd and even numbers\n",
    "        int[] oddNum = new int[CountOdd];\n",
    "        int[] evenNum = new int[CountEven];\n",
    "\n",
    "        int oddIndex = 0;\n",
    "        int evenIndex = 0;\n",
    "\n",
    "        \n",
    "        foreach (int no in num)\n",
    "        {\n",
    "            if (no % 2 == 0)\n",
    "            {\n",
    "                evenNum[evenIndex] = no;\n",
    "                evenIndex++;\n",
    "            }\n",
    "            else\n",
    "            {\n",
    "                oddNum[oddIndex] = no;\n",
    "                oddIndex++;\n",
    "            }\n",
    "        }\n",
    "\n",
    "        \n",
    "        Console.WriteLine(\"Odd numbers:\");\n",
    "        foreach (int odd in oddNum)\n",
    "        {\n",
    "            Console.WriteLine(odd);\n",
    "        }\n",
    "\n",
    "        Console.WriteLine(\"\\nEven numbers:\");\n",
    "        foreach (int even in evenNum)\n",
    "        {\n",
    "            Console.WriteLine(even);\n",
    "        }\n",
    "    }\n",
    "}\n",
    "Program.Main();"
   ]
  },
  {
   "cell_type": "markdown",
   "id": "e3704126",
   "metadata": {},
   "source": [
    "## Question 5 (C#)"
   ]
  },
  {
   "cell_type": "markdown",
   "id": "575785fe",
   "metadata": {},
   "source": [
    "a) Write a function inside(x,y,x1,y1,x2,y2) that returns True or False depending on whether the point (x,y) lies in the rectangle with lower left corner (x1,y1) and upper right corner (x2,y2).\n",
    "\n",
    "b) Use function inside() from part a. to write an expression that tests whether the point (1,1) lies in both of the following rectangles: one with lower left corner (0.3, 0.5) and upper right corner (1.1, 0.7) and the other with lower left corner (0.5, 0.2) and upper right corner (1.1, 2)."
   ]
  },
  {
   "cell_type": "code",
   "execution_count": 55,
   "id": "323bbed1",
   "metadata": {},
   "outputs": [],
   "source": [
    "// a) Write a function inside(x,y,x1,y1,x2,y2) that returns True or False depending on whether the point (x,y) lies in the \n",
    "// rectangle with lower left corner (x1,y1) and upper right corner (x2,y2).\n",
    "\n",
    "using System;\n",
    "\n",
    "public class Program\n",
    "{\n",
    "    public static bool Inside(double x, double y, double x1, double y1, double x2, double y2)\n",
    "    {\n",
    "        bool isInside = (x >= x1 && x <= x2) && (y >= y1 && y <= y2);\n",
    "        return isInside;\n",
    "    }\n",
    "}"
   ]
  },
  {
   "cell_type": "code",
   "execution_count": 74,
   "id": "4ea5ee32",
   "metadata": {},
   "outputs": [
    {
     "name": "stdout",
     "output_type": "stream",
     "text": [
      "Point (1,1) is outside the first rectangle.\n",
      "Point (1,1) is inside the first rectangle.\n"
     ]
    }
   ],
   "source": [
    "// b) Use function inside() from part a. to write an expression that tests whether the point (1,1) \n",
    "// lies in both of the following rectangles:\n",
    "// one with lower left corner (0.3, 0.5) and upper right corner (1.1, 0.7)\n",
    "// and the other with lower left corner (0.5, 0.2) and upper right corner (1.1, 2).\n",
    "\n",
    "using System;\n",
    "\n",
    "public class Program1\n",
    "{\n",
    "    public static bool coordinates(double x, double y, double x1, double y1, double x2, double y2)\n",
    "    {\n",
    "        bool iscoordinates = (x >= x1 && x <= x2) && (y >= y1 && y <= y2);\n",
    "        return iscoordinates;\n",
    "    }\n",
    "\n",
    "    public static void Main()\n",
    "    {\n",
    "        double x = 1;\n",
    "        double y = 1;\n",
    "        double x1 = 0.3;\n",
    "        double y1 = 0.5;\n",
    "        double x2 = 1.1;\n",
    "        double y2 = 0.7;\n",
    "\n",
    "        bool result = coordinates(x, y, x1, y1, x2, y2);\n",
    "\n",
    "        if (result)\n",
    "        {\n",
    "            Console.WriteLine($\"Point ({x},{y}) is inside the first rectangle.\");\n",
    "        }\n",
    "        else\n",
    "        {\n",
    "            Console.WriteLine($\"Point ({x},{y}) is outside the first rectangle.\");\n",
    "        }\n",
    "    }\n",
    "}\n",
    "\n",
    "Program1.Main();\n",
    "\n",
    "// For Second Rectangle\n",
    "\n",
    "public class Program2\n",
    "{\n",
    "    public static bool coordinates(double x, double y, double x1, double y1, double x2, double y2)\n",
    "    {\n",
    "        bool iscoordinates = (x >= x1 && x <= x2) && (y >= y1 && y <= y2);\n",
    "        return iscoordinates;\n",
    "    }\n",
    "\n",
    "    public static void Main()\n",
    "    {\n",
    "        double x = 1;\n",
    "        double y = 1;\n",
    "        double x1 = 0.5;\n",
    "        double y1 = 0.2;\n",
    "        double x2 = 1.1;\n",
    "        double y2 = 2;\n",
    "\n",
    "        bool result = coordinates(x, y, x1, y1, x2, y2);\n",
    "\n",
    "        if (result)\n",
    "        {\n",
    "            Console.WriteLine($\"Point ({x},{y}) is inside the first rectangle.\");\n",
    "        }\n",
    "        else\n",
    "        {\n",
    "            Console.WriteLine($\"Point ({x},{y}) is outside the first rectangle.\");\n",
    "        }\n",
    "    }\n",
    "}\n",
    "\n",
    "Program2.Main();\n",
    "\n",
    "\n",
    "\n",
    "\n"
   ]
  },
  {
   "cell_type": "markdown",
   "id": "93d01a29",
   "metadata": {},
   "source": [
    "## Question 6 (Python)"
   ]
  },
  {
   "cell_type": "markdown",
   "id": "532fe1b4",
   "metadata": {},
   "source": [
    "You can turn a word into pig-Latin using the following two rules (simplified):\n",
    "\n",
    "• If the word starts with a consonant, move that letter to the end and append 'ay'. For example, 'happy' becomes 'appyhay' and 'pencil' becomes 'encilpay'.\n",
    "\n",
    "• If the word starts with a vowel, simply append 'way' to the end of the word. For example, 'enter' becomes 'enterway' and 'other' becomes 'otherway' . For our purposes, there are 5 vowels: a, e, i, o, u (so we count y as a consonant).\n",
    "\n",
    "Write a function pig() that takes a word (i.e., a string) as input and returns its pig- Latin form. Your function should still work if the input word contains upper case characters. Your output should always be lower case however."
   ]
  },
  {
   "cell_type": "code",
   "execution_count": 2,
   "id": "03e3085f",
   "metadata": {},
   "outputs": [
    {
     "name": "stdout",
     "output_type": "stream",
     "text": [
      "Enter a word: INDIA\n",
      "Pig Latin word: indiaway\n"
     ]
    }
   ],
   "source": [
    "def pig(word):\n",
    "    \n",
    "    word = word.lower() # Convert the word to lowercase to handle uppercase characters\n",
    "    \n",
    "    vowels = ['a', 'e', 'i', 'o', 'u']  # Define a list of vowels\n",
    "    \n",
    "    if word[0] in vowels: # Check if the word starts with a vowel\n",
    "        theresult = word + 'way'\n",
    "       \n",
    "    else:\n",
    "        theresult = word[1:] + word[0] + 'ay'\n",
    "    \n",
    "    return theresult\n",
    "\n",
    "user_input = input(\"Enter a word: \")\n",
    "result = pig(user_input)\n",
    "print(\"Pig Latin word:\", result)"
   ]
  },
  {
   "cell_type": "markdown",
   "id": "93f89ffc",
   "metadata": {},
   "source": [
    "## Question 7 (Python)"
   ]
  },
  {
   "cell_type": "markdown",
   "id": "96910164",
   "metadata": {},
   "source": [
    "File bloodtype1.txt records blood-types of patients (A, B, AB, O or OO) at a clinic. \n",
    "\n",
    "Write a function bldcount() that reads the file with name name and reports (i.e., prints) how many patients there are in each bloodtype."
   ]
  },
  {
   "cell_type": "code",
   "execution_count": 11,
   "id": "fcd361a0",
   "metadata": {},
   "outputs": [
    {
     "name": "stdout",
     "output_type": "stream",
     "text": [
      "Blood Type A: 15 patients\n",
      "Blood Type B: 1 patients\n",
      "Blood Type AB: 13 patients\n",
      "Blood Type O: 15 patients\n",
      "Blood Type OO: 0 patients\n"
     ]
    }
   ],
   "source": [
    "def bldcount(file):\n",
    "    # Initialize a dictionary to store the blood type counts\n",
    "    bloodtype_counts = {'A': 0,'B': 0,'AB': 0,'O': 0,'OO': 0}\n",
    "\n",
    "    \n",
    "    with open(file, 'r') as l:\n",
    "        \n",
    "        data_split = l.read()\n",
    "            \n",
    "       \n",
    "        blood_types = data_split.split()\n",
    "            \n",
    "        \n",
    "        for blood in blood_types:\n",
    "            if blood in bloodtype_counts:\n",
    "                bloodtype_counts[blood] += 1\n",
    "\n",
    "   \n",
    "    for blood, count in bloodtype_counts.items():\n",
    "        print(f\"Blood Type {blood}: {count} patients\")\n",
    "\n",
    "# Call the function with the file name\n",
    "bldcount('bloodtype1.txt')\n"
   ]
  },
  {
   "cell_type": "markdown",
   "id": "5542141c",
   "metadata": {},
   "source": [
    "## Question 8 (Python)"
   ]
  },
  {
   "cell_type": "markdown",
   "id": "45bab5da",
   "metadata": {},
   "source": [
    "Write a function curconv() that takes as input:\n",
    "1. a currency represented using a string (e.g., 'JPY' for the Japanese Yen or 'EUR' for the Euro)\n",
    "2. an amount\n",
    "and then converts and returns the amount in US dollars."
   ]
  },
  {
   "cell_type": "code",
   "execution_count": 1,
   "id": "6088bee2",
   "metadata": {},
   "outputs": [
    {
     "name": "stdout",
     "output_type": "stream",
     "text": [
      "Enter the currency code: INR\n",
      "Enter the amount: 100000\n",
      "100000.0 INR is equal to 1776.43 USD\n"
     ]
    }
   ],
   "source": [
    "def curconv(currency_code, amount):\n",
    "\n",
    "    with open('currencies.txt', 'r') as n:\n",
    "        contents = n.readlines()\n",
    "    \n",
    "   \n",
    "    conversion_rates = {}\n",
    "    \n",
    "    \n",
    "    for content in contents:\n",
    "        parts = content.split()\n",
    "        if len(parts) >= 3:\n",
    "            code, rate = parts[:2]\n",
    "            conversion_rates[code] = float(rate)\n",
    "    \n",
    "    \n",
    "    currency_code = currency_code.upper()\n",
    "    \n",
    "   \n",
    "    if currency_code in conversion_rates:\n",
    "        \n",
    "        usd = amount * conversion_rates[currency_code]\n",
    "        return usd\n",
    "    else:\n",
    "        print(f\"Currency code '{currency_code}' not found in the currency rates.\")\n",
    "\n",
    "\n",
    "currency_code = input(\"Enter the currency code: \")\n",
    "amount = float(input(\"Enter the amount: \"))\n",
    "\n",
    "\n",
    "result = curconv(currency_code, amount)\n",
    "\n",
    "if result is not None:\n",
    "    print(f\"{amount} {currency_code} is equal to {result} USD\")\n"
   ]
  },
  {
   "cell_type": "markdown",
   "id": "c582e4b5",
   "metadata": {},
   "source": [
    "## Question 9 (Python)"
   ]
  },
  {
   "cell_type": "markdown",
   "id": "05a37c42",
   "metadata": {},
   "source": [
    "Each of the following will cause an exception (an error). Identify what type of exception each will cause.\n",
    "\n",
    "Trying to add incompatible variables, as in adding 6 + ‘a’\n",
    "\n",
    "Referring to the 12th item of a list that has only 10 items\n",
    "\n",
    "Using a value that is out of range for a function’s input, such as calling math.sqrt(-1.0)\n",
    "\n",
    "Using an undeclared variable, such as print(x) when x has not been defined\n",
    "\n",
    "Trying to open a file that does not exist, such as mistyping the file name or looking in the wrong directory."
   ]
  },
  {
   "cell_type": "code",
   "execution_count": 2,
   "id": "77dcf8a7",
   "metadata": {},
   "outputs": [
    {
     "ename": "TypeError",
     "evalue": "unsupported operand type(s) for +: 'int' and 'str'",
     "output_type": "error",
     "traceback": [
      "\u001b[1;31m---------------------------------------------------------------------------\u001b[0m",
      "\u001b[1;31mTypeError\u001b[0m                                 Traceback (most recent call last)",
      "Cell \u001b[1;32mIn[2], line 2\u001b[0m\n\u001b[0;32m      1\u001b[0m \u001b[38;5;66;03m# Trying to add incompatible variables, as in adding 6 + ‘a’\u001b[39;00m\n\u001b[1;32m----> 2\u001b[0m Eror1 \u001b[38;5;241m=\u001b[39m \u001b[38;5;241m6\u001b[39m \u001b[38;5;241m+\u001b[39m \u001b[38;5;124m'\u001b[39m\u001b[38;5;124ma\u001b[39m\u001b[38;5;124m'\u001b[39m\n",
      "\u001b[1;31mTypeError\u001b[0m: unsupported operand type(s) for +: 'int' and 'str'"
     ]
    }
   ],
   "source": [
    "# Trying to add incompatible variables, as in adding 6 + ‘a’\n",
    "Eror1 = 6 + 'a'"
   ]
  },
  {
   "cell_type": "code",
   "execution_count": 3,
   "id": "396c7ef2",
   "metadata": {},
   "outputs": [
    {
     "ename": "IndexError",
     "evalue": "list index out of range",
     "output_type": "error",
     "traceback": [
      "\u001b[1;31m---------------------------------------------------------------------------\u001b[0m",
      "\u001b[1;31mIndexError\u001b[0m                                Traceback (most recent call last)",
      "Cell \u001b[1;32mIn[3], line 3\u001b[0m\n\u001b[0;32m      1\u001b[0m \u001b[38;5;66;03m# Referring to the 12th item of a list that has only 10 items\u001b[39;00m\n\u001b[0;32m      2\u001b[0m \u001b[38;5;28mlist\u001b[39m \u001b[38;5;241m=\u001b[39m [\u001b[38;5;241m1\u001b[39m, \u001b[38;5;241m5\u001b[39m, \u001b[38;5;241m55\u001b[39m, \u001b[38;5;241m42\u001b[39m, \u001b[38;5;241m3\u001b[39m, \u001b[38;5;241m68\u001b[39m, \u001b[38;5;241m7\u001b[39m, \u001b[38;5;241m82\u001b[39m, \u001b[38;5;241m98\u001b[39m, \u001b[38;5;241m10\u001b[39m]\n\u001b[1;32m----> 3\u001b[0m Error2 \u001b[38;5;241m=\u001b[39m \u001b[38;5;28mlist\u001b[39m[\u001b[38;5;241m12\u001b[39m]\n",
      "\u001b[1;31mIndexError\u001b[0m: list index out of range"
     ]
    }
   ],
   "source": [
    "# Referring to the 12th item of a list that has only 10 items\n",
    "list = [1, 5, 55, 42, 3, 68, 7, 82, 98, 10]\n",
    "Error2 = list[12]"
   ]
  },
  {
   "cell_type": "code",
   "execution_count": 5,
   "id": "3ceb4f5f",
   "metadata": {},
   "outputs": [
    {
     "ename": "ValueError",
     "evalue": "math domain error",
     "output_type": "error",
     "traceback": [
      "\u001b[1;31m---------------------------------------------------------------------------\u001b[0m",
      "\u001b[1;31mValueError\u001b[0m                                Traceback (most recent call last)",
      "Cell \u001b[1;32mIn[5], line 3\u001b[0m\n\u001b[0;32m      1\u001b[0m \u001b[38;5;66;03m# Using a value that is out of range for a function’s input, such as calling math.sqrt(-1.0)\u001b[39;00m\n\u001b[0;32m      2\u001b[0m \u001b[38;5;28;01mimport\u001b[39;00m \u001b[38;5;21;01mmath\u001b[39;00m\n\u001b[1;32m----> 3\u001b[0m s \u001b[38;5;241m=\u001b[39m math\u001b[38;5;241m.\u001b[39msqrt(\u001b[38;5;241m-\u001b[39m\u001b[38;5;241m1.0\u001b[39m)\n",
      "\u001b[1;31mValueError\u001b[0m: math domain error"
     ]
    }
   ],
   "source": [
    "# Using a value that is out of range for a function’s input, such as calling math.sqrt(-1.0)\n",
    "import math\n",
    "s = math.sqrt(-1.0)"
   ]
  },
  {
   "cell_type": "code",
   "execution_count": 6,
   "id": "1d191517",
   "metadata": {},
   "outputs": [
    {
     "ename": "NameError",
     "evalue": "name 'x' is not defined",
     "output_type": "error",
     "traceback": [
      "\u001b[1;31m---------------------------------------------------------------------------\u001b[0m",
      "\u001b[1;31mNameError\u001b[0m                                 Traceback (most recent call last)",
      "Cell \u001b[1;32mIn[6], line 2\u001b[0m\n\u001b[0;32m      1\u001b[0m \u001b[38;5;66;03m#Using an undeclared variable, such as print(x) when x has not been defined\u001b[39;00m\n\u001b[1;32m----> 2\u001b[0m \u001b[38;5;28mprint\u001b[39m(x)\n",
      "\u001b[1;31mNameError\u001b[0m: name 'x' is not defined"
     ]
    }
   ],
   "source": [
    "#Using an undeclared variable, such as print(x) when x has not been defined\n",
    "print(x)"
   ]
  },
  {
   "cell_type": "code",
   "execution_count": 7,
   "id": "eb041bca",
   "metadata": {},
   "outputs": [
    {
     "ename": "FileNotFoundError",
     "evalue": "[Errno 2] No such file or directory: 'BDAT1004students.txt'",
     "output_type": "error",
     "traceback": [
      "\u001b[1;31m---------------------------------------------------------------------------\u001b[0m",
      "\u001b[1;31mFileNotFoundError\u001b[0m                         Traceback (most recent call last)",
      "Cell \u001b[1;32mIn[7], line 3\u001b[0m\n\u001b[0;32m      1\u001b[0m \u001b[38;5;66;03m#Trying to open a file that does not exist, such as mistyping the file name or looking in the wrong directory. \u001b[39;00m\n\u001b[1;32m----> 3\u001b[0m \u001b[38;5;28;01mwith\u001b[39;00m \u001b[38;5;28mopen\u001b[39m(\u001b[38;5;124m'\u001b[39m\u001b[38;5;124mBDAT1004students.txt\u001b[39m\u001b[38;5;124m'\u001b[39m, \u001b[38;5;124m'\u001b[39m\u001b[38;5;124mr\u001b[39m\u001b[38;5;124m'\u001b[39m) \u001b[38;5;28;01mas\u001b[39;00m f:\n\u001b[0;32m      5\u001b[0m     \u001b[38;5;28;01mpass\u001b[39;00m\n",
      "File \u001b[1;32m~\\anaconda3\\Lib\\site-packages\\IPython\\core\\interactiveshell.py:286\u001b[0m, in \u001b[0;36m_modified_open\u001b[1;34m(file, *args, **kwargs)\u001b[0m\n\u001b[0;32m    279\u001b[0m \u001b[38;5;28;01mif\u001b[39;00m file \u001b[38;5;129;01min\u001b[39;00m {\u001b[38;5;241m0\u001b[39m, \u001b[38;5;241m1\u001b[39m, \u001b[38;5;241m2\u001b[39m}:\n\u001b[0;32m    280\u001b[0m     \u001b[38;5;28;01mraise\u001b[39;00m \u001b[38;5;167;01mValueError\u001b[39;00m(\n\u001b[0;32m    281\u001b[0m         \u001b[38;5;124mf\u001b[39m\u001b[38;5;124m\"\u001b[39m\u001b[38;5;124mIPython won\u001b[39m\u001b[38;5;124m'\u001b[39m\u001b[38;5;124mt let you open fd=\u001b[39m\u001b[38;5;132;01m{\u001b[39;00mfile\u001b[38;5;132;01m}\u001b[39;00m\u001b[38;5;124m by default \u001b[39m\u001b[38;5;124m\"\u001b[39m\n\u001b[0;32m    282\u001b[0m         \u001b[38;5;124m\"\u001b[39m\u001b[38;5;124mas it is likely to crash IPython. If you know what you are doing, \u001b[39m\u001b[38;5;124m\"\u001b[39m\n\u001b[0;32m    283\u001b[0m         \u001b[38;5;124m\"\u001b[39m\u001b[38;5;124myou can use builtins\u001b[39m\u001b[38;5;124m'\u001b[39m\u001b[38;5;124m open.\u001b[39m\u001b[38;5;124m\"\u001b[39m\n\u001b[0;32m    284\u001b[0m     )\n\u001b[1;32m--> 286\u001b[0m \u001b[38;5;28;01mreturn\u001b[39;00m io_open(file, \u001b[38;5;241m*\u001b[39margs, \u001b[38;5;241m*\u001b[39m\u001b[38;5;241m*\u001b[39mkwargs)\n",
      "\u001b[1;31mFileNotFoundError\u001b[0m: [Errno 2] No such file or directory: 'BDAT1004students.txt'"
     ]
    }
   ],
   "source": [
    "#Trying to open a file that does not exist, such as mistyping the file name or looking in the wrong directory. \n",
    "\n",
    "with open('BDAT1004students.txt', 'r') as f:\n",
    "   \n",
    "    pass"
   ]
  },
  {
   "cell_type": "markdown",
   "id": "4ec73f8b",
   "metadata": {},
   "source": [
    "## Question 10 (Python)"
   ]
  },
  {
   "cell_type": "markdown",
   "id": "37639c0f",
   "metadata": {},
   "source": [
    "Write a function called frequencies() that takes a string as its only parameter, and returns a list of integers, showing the number of times each character appears in the text. Your function may ignore any characters that are not in letters."
   ]
  },
  {
   "cell_type": "code",
   "execution_count": 3,
   "id": "2eb5363e",
   "metadata": {},
   "outputs": [
    {
     "name": "stdout",
     "output_type": "stream",
     "text": [
      "Enter a sentence: I am Navjot\n",
      "a: 2\n",
      "b: 0\n",
      "c: 0\n",
      "d: 0\n",
      "e: 0\n",
      "f: 0\n",
      "g: 0\n",
      "h: 0\n",
      "i: 1\n",
      "j: 1\n",
      "k: 0\n",
      "l: 0\n",
      "m: 1\n",
      "n: 1\n",
      "o: 1\n",
      "p: 0\n",
      "q: 0\n",
      "r: 0\n",
      "s: 0\n",
      "t: 1\n",
      "u: 0\n",
      "v: 1\n",
      "w: 0\n",
      "x: 0\n",
      "y: 0\n",
      "z: 0\n"
     ]
    }
   ],
   "source": [
    "def frequencies(sentence):\n",
    "    # Initialize a list of integers to store the counts of characters\n",
    "    counts = [0] * 26  # 26 letters in 'abcdefghijklmnopqrstuvwxyz'\n",
    "\n",
    "    # Convert the input text to lowercase to make it case-insensitive\n",
    "    sentence = sentence.lower()\n",
    "\n",
    "    # Define the alphabets\n",
    "    alphabets = 'abcdefghijklmnopqrstuvwxyz'\n",
    "\n",
    "    # Iterate through each character in the input text\n",
    "    for char in sentence:\n",
    "        # Check if the character is a alphabets\n",
    "        if char in alphabets:\n",
    "            # Increment the count for the corresponding character in the list\n",
    "            counts[alphabets.index(char)] += 1\n",
    "\n",
    "    return counts\n",
    "\n",
    "\n",
    "sentence = input(\"Enter a sentence: \")\n",
    "result = frequencies(sentence)\n",
    "\n",
    "# Print the letter frequencies\n",
    "for alphabets, count in zip('abcdefghijklmnopqrstuvwxyz', result):\n",
    "    print(f\"{alphabets}: {count}\")\n",
    "\n"
   ]
  },
  {
   "cell_type": "code",
   "execution_count": null,
   "id": "9dfe527e",
   "metadata": {},
   "outputs": [],
   "source": []
  }
 ],
 "metadata": {
  "kernelspec": {
   "display_name": "Python 3 (ipykernel)",
   "language": "python",
   "name": "python3"
  },
  "language_info": {
   "codemirror_mode": {
    "name": "ipython",
    "version": 3
   },
   "file_extension": ".py",
   "mimetype": "text/x-python",
   "name": "python",
   "nbconvert_exporter": "python",
   "pygments_lexer": "ipython3",
   "version": "3.11.5"
  }
 },
 "nbformat": 4,
 "nbformat_minor": 5
}
